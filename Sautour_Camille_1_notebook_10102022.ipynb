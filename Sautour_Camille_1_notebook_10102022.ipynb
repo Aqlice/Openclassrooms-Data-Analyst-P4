{
 "cells": [
  {
   "cell_type": "markdown",
   "metadata": {},
   "source": [
    "# 1. importation des librairies et preparation des données"
   ]
  },
  {
   "cell_type": "markdown",
   "metadata": {},
   "source": [
    "## 1.1 importation des librairies"
   ]
  },
  {
   "cell_type": "code",
   "execution_count": 4332,
   "metadata": {},
   "outputs": [],
   "source": [
    "\n",
    "import pandas as pd"
   ]
  },
  {
   "cell_type": "code",
   "execution_count": 4333,
   "metadata": {},
   "outputs": [],
   "source": [
    "pd.set_option('display.max_columns', None)\n",
    "pd.set_option('display.max_rows', None) "
   ]
  },
  {
   "cell_type": "markdown",
   "metadata": {},
   "source": [
    "## 1.2 importation des dataframes"
   ]
  },
  {
   "cell_type": "code",
   "execution_count": 4334,
   "metadata": {},
   "outputs": [],
   "source": [
    "aid = pd.read_csv('../DA-P4/sources/aide_alimentaire.csv')\n",
    "dispo = pd.read_csv('../DA-P4/sources/dispo_alimentaire.csv')\n",
    "pop = pd.read_csv('../DA-P4/sources/population.csv')\n",
    "lack = pd.read_csv('../DA-P4/sources/sous_nutrition.csv')\n",
    "fao_stat =  pd.read_csv('../DA-P4/sources/FAOSTAT.csv')"
   ]
  },
  {
   "cell_type": "markdown",
   "metadata": {},
   "source": [
    "## 1.3 preparation des dataframes"
   ]
  },
  {
   "cell_type": "code",
   "execution_count": 4335,
   "metadata": {},
   "outputs": [],
   "source": [
    "# preparation du fichier avec les données de sous nutritions manquantes\n",
    "\n",
    "fao_stat= fao_stat.drop(['Domaine', 'Code Domaine','Code zone (M49)', 'Code Élément','Élément','Code Produit', 'Code année', 'Note' ], axis=1)\n",
    "fao_stat.isna()\n",
    "fao_stat= fao_stat.dropna(axis=0)\n",
    "fao_stat['Valeur'] = fao_stat['Valeur'].astype(float)\n",
    "fao_stat = fao_stat[fao_stat['Année']=='2016-2018']"
   ]
  },
  {
   "cell_type": "code",
   "execution_count": 4336,
   "metadata": {},
   "outputs": [],
   "source": [
    "# preparation du fichier population\n",
    "\n",
    "pop = pop[pop['Année']==2017]\n",
    "pop['Valeur'] = pop['Valeur'].astype(float)"
   ]
  },
  {
   "cell_type": "code",
   "execution_count": 4337,
   "metadata": {},
   "outputs": [],
   "source": [
    "# preparation du fichier sous nutrition\n",
    "\n",
    "new_lack = lack.copy()\n",
    "new_lack = new_lack[new_lack['Année']=='2016-2018']\n",
    "new_lack['Valeur'] = new_lack['Valeur'].astype(float)"
   ]
  },
  {
   "cell_type": "code",
   "execution_count": 4338,
   "metadata": {},
   "outputs": [],
   "source": [
    "# fusion des fichiers fao_stats et population, et conversion du nombre d'habitants de pourcentage a nombre reel, exprimé en milliers\n",
    "\n",
    "new = pd.merge(fao_stat, pop, on=[\"Zone\"], how='left')\n",
    "new[\"Valeur1\"]= ((new.Valeur_y * new.Valeur_x / 100) * 0.001)\n",
    "new[\"Valeur1\"] = new[\"Valeur1\"].round(decimals=1)\n",
    "new = new.drop([\"Produit\", \"Année_x\", \"Unité\", \"Symbole\"], axis=1)"
   ]
  },
  {
   "cell_type": "code",
   "execution_count": 4339,
   "metadata": {},
   "outputs": [],
   "source": [
    "# fusion entre le fichier des données de sous nutrions, et du nouveau fichier possedant les valeurs manquantes\n",
    "\n",
    "Lack_filled = pd.merge(new_lack, new, on='Zone', how=\"left\")\n",
    "Lack_filled['Valeur'].fillna(Lack_filled['Valeur1'],inplace=True)\n",
    "Lack_filled = Lack_filled.drop(['Année_y', \"Valeur1\", 'Valeur_x', 'Valeur_y'], axis=1)\n"
   ]
  },
  {
   "cell_type": "code",
   "execution_count": 4340,
   "metadata": {},
   "outputs": [],
   "source": [
    "# fusion du nouveau fichier de données avec les données de population\n",
    "Lack_filled = pd.merge(Lack_filled, pop, on='Zone', how='left')\n",
    "Lack_filled = Lack_filled.drop(['Description du Symbole'], axis=1)\n",
    "Lack_filled = Lack_filled.dropna(axis=0)"
   ]
  },
  {
   "cell_type": "markdown",
   "metadata": {},
   "source": [
    "# 2. Annalyse generale"
   ]
  },
  {
   "cell_type": "markdown",
   "metadata": {},
   "source": [
    "## 2.1 proportion de personnes en état de sous-nutrition "
   ]
  },
  {
   "cell_type": "code",
   "execution_count": 4341,
   "metadata": {},
   "outputs": [
    {
     "name": "stdout",
     "output_type": "stream",
     "text": [
      "Le taux de personnes en etat de sous-nutrition est de 9.1%\n"
     ]
    }
   ],
   "source": [
    "# addition des données de population et des données de sous-nutrition, pour les pays renseignés, puis calcul de pourcentage\n",
    "world_pop = Lack_filled['Valeur_y'].sum()\n",
    "world_lack = Lack_filled['Valeur_x'].sum()\n",
    "print(f'Le taux de personnes en etat de sous-nutrition est de {((world_lack/world_pop) * 100000).round(decimals=1)}%')\n"
   ]
  },
  {
   "cell_type": "markdown",
   "metadata": {},
   "source": [
    "## 2.2 nombre théorique de personnes qui pourraient être nourries"
   ]
  },
  {
   "cell_type": "code",
   "execution_count": 4342,
   "metadata": {},
   "outputs": [],
   "source": [
    "#addition du nombre de kcal/personne/jour disponible dans chaque pays\n",
    "new_dispo = pd.read_csv('../DA-P4/sources/dispo_alimentaire.csv')\n",
    "new_dispo = new_dispo.groupby('Zone').sum(['Disponibilité alimentaire (Kcal/personne/jour)'])\n"
   ]
  },
  {
   "cell_type": "code",
   "execution_count": 4343,
   "metadata": {},
   "outputs": [],
   "source": [
    "#ajout des données de population par pays pour l'année 2017, puis multiplication de la donnée Kcal/personne/jour par la donnée de population\n",
    "#pour obtenir une donnée de Kcal/pays/jour\n",
    "new_dispo = pd.merge(new_dispo, pop, on=['Zone'], how=\"left\")\n",
    "new_dispo.drop(new_dispo.loc[new_dispo['Année']!=2017.0].index, inplace=True)\n",
    "new_dispo[\"Kcal/pays/jour\"]= (new_dispo['Disponibilité alimentaire (Kcal/personne/jour)'] * new_dispo[\"Valeur\"])"
   ]
  },
  {
   "cell_type": "code",
   "execution_count": 4344,
   "metadata": {},
   "outputs": [
    {
     "name": "stdout",
     "output_type": "stream",
     "text": [
      "Le taux d'humains théorique pouvant etre nourri est de 115 % de la population mondiale\n"
     ]
    }
   ],
   "source": [
    "# addition des Kcal/pays/jour pour obtenir un nombre de Kcal/jour au niveau mondial, puis addition des populations de chaque pays.\n",
    "# un humain consomme en moyenne 2500 calories par jour, ce qui permet de calculer le nombre d'humains que l'on pourrait théoriquement nourrir.\n",
    "#calcul du pourcentage d'humains que l'on pourrait nourrir\n",
    "daily_cal = new_dispo[\"Kcal/pays/jour\"].sum()\n",
    "world_pop = new_dispo['Valeur'].sum()\n",
    "fed_humans = daily_cal / 2500\n",
    "print(f\"Le taux d'humains théorique pouvant etre nourri est de {round((fed_humans / world_pop) * 100)} % de la population mondiale\")"
   ]
  },
  {
   "cell_type": "markdown",
   "metadata": {},
   "source": [
    "## 2.3 nombre théorique de personnes qui pourraient être nourries a partir de la disponibilité alimentaire des produits végétaux "
   ]
  },
  {
   "cell_type": "code",
   "execution_count": 4345,
   "metadata": {},
   "outputs": [],
   "source": [
    "#selection de la disponibilité alimentaire des produits vegetaux, puis addition par pays\n",
    "vegetal_dispo = pd.read_csv('../DA-P4/sources/dispo_alimentaire.csv')\n",
    "vegetal_dispo = vegetal_dispo.loc[vegetal_dispo['Origine']== 'vegetale']\n",
    "vegetal_dispo = vegetal_dispo.groupby('Zone').sum(['Disponibilité alimentaire (Kcal/personne/jour)'])"
   ]
  },
  {
   "cell_type": "code",
   "execution_count": 4346,
   "metadata": {},
   "outputs": [],
   "source": [
    "#ajout des données de population et selection de la bonne année\n",
    "vegetal_dispo = pd.merge(vegetal_dispo, pop, on=['Zone'], how=\"left\")\n",
    "vegetal_dispo.drop(vegetal_dispo.loc[vegetal_dispo['Année']!=2017.0].index, inplace=True)"
   ]
  },
  {
   "cell_type": "code",
   "execution_count": 4347,
   "metadata": {},
   "outputs": [
    {
     "name": "stdout",
     "output_type": "stream",
     "text": [
      "Le taux d'humains théorique pouvant etre nourri est de 95% de la population mondiale\n"
     ]
    }
   ],
   "source": [
    "# meme calculs que pour lq question precedente, calcul du nombre d'humains \n",
    "# pouvant théoriquement être nourris uniquement grace aux produits vegetaux\n",
    "vegetal_dispo[\"Kcal/pays/jour\"]= (vegetal_dispo['Disponibilité alimentaire (Kcal/personne/jour)']* vegetal_dispo[\"Valeur\"])\n",
    "daily_cal_veg = vegetal_dispo[\"Kcal/pays/jour\"].sum()\n",
    "fed_humans_veg = daily_cal_veg / 2500\n",
    "print(f\"Le taux d'humains théorique pouvant etre nourri est de {round((fed_humans_veg / world_pop) * 100)}% de la population mondiale\")"
   ]
  },
  {
   "cell_type": "markdown",
   "metadata": {},
   "source": [
    "## 2.3 utilisation de la disponibilité intérieure"
   ]
  },
  {
   "cell_type": "code",
   "execution_count": 4348,
   "metadata": {},
   "outputs": [
    {
     "name": "stdout",
     "output_type": "stream",
     "text": [
      "La part des aliments pour animaux est de 13.2% de la disponibilité intérieure\n",
      "La part des pertes est de 4.6% de la disponibilité intérieure\n",
      "La nourriture correspond à 49.5% de la disponibilité intérieure\n"
     ]
    }
   ],
   "source": [
    "# calcul de la part des aliments pour animaux, de la nourriture, et des pertes dans la disponibilité intérieure\n",
    "dispo_sum = dispo['Disponibilité intérieure'].sum()\n",
    "animals_sum = dispo['Aliments pour animaux'].sum()\n",
    "lost_sum = dispo['Pertes'].sum()\n",
    "nut_sum = dispo['Nourriture'].sum()\n",
    "print(f\"La part des aliments pour animaux est de {(animals_sum * 100 / dispo_sum).round(decimals=1)}% de la disponibilité intérieure\")\n",
    "print(f\"La part des pertes est de {(lost_sum * 100 / dispo_sum).round(decimals=1)}% de la disponibilité intérieure\")\n",
    "print(f\"La nourriture correspond à {(nut_sum * 100 / dispo_sum).round(decimals=1)}% de la disponibilité intérieure\")\n"
   ]
  },
  {
   "cell_type": "markdown",
   "metadata": {},
   "source": [
    "# 3. Questions specifiques"
   ]
  },
  {
   "cell_type": "markdown",
   "metadata": {},
   "source": [
    "## 3.1  lien logique entre l’ensemble des 10 variables de l'utilisation de la disponibilité intérieure"
   ]
  },
  {
   "cell_type": "markdown",
   "metadata": {},
   "source": [
    "disponibilité interieure = \n",
    "importation + production - exportations + variation de stock = \n",
    "nourriture + pertes + semences + aliments pour animaux + autre utilisations + traitement"
   ]
  },
  {
   "cell_type": "markdown",
   "metadata": {},
   "source": [
    "## 3.2 utilisation des céréales"
   ]
  },
  {
   "cell_type": "code",
   "execution_count": 4349,
   "metadata": {},
   "outputs": [
    {
     "name": "stdout",
     "output_type": "stream",
     "text": [
      "La part de nourriture de la disponibilité intérieure des céréales est de 42.8%\n",
      "La part des aliments pour animaux de la disponibilité intérieure des céréales est de 36.3%\n"
     ]
    }
   ],
   "source": [
    "# calcul des données de nutrition et aliments pour animaux, uniquement pour les cereales,\n",
    "# puis calcul de leur proportion par rapport a la disponibilité intérieure des céréqles\n",
    "cereal = ['Avoine','Blé','Céréales, Autres','Maïs','Miel','Millet',\n",
    "'Orge','Riz (Eq Blanchi)','Seigle','Sorgho', \"Alpiste\",\"Triticale\",\"Céréales élangées\",\n",
    "\"Fonio\",\"Quinoa\",\"Riz, paddy\",\"Sarrasin, blé noir\"]\n",
    "dispo_cereal = dispo[dispo['Produit'].isin(cereal)]\n",
    "animals = dispo_cereal['Aliments pour animaux'].sum()\n",
    "nut = dispo_cereal['Nourriture'].sum()\n",
    "disp = dispo_cereal['Disponibilité intérieure'].sum()\n",
    "nut = (nut / disp) * 100\n",
    "animals = (animals / disp) * 100\n",
    "print(f\"La part de nourriture de la disponibilité intérieure des céréales est de {nut.round(decimals=1)}%\")\n",
    "print(f\"La part des aliments pour animaux de la disponibilité intérieure des céréales est de {animals.round(decimals=1)}%\")\n",
    "\n",
    "\n"
   ]
  },
  {
   "cell_type": "markdown",
   "metadata": {},
   "source": [
    "## 3.3 utilisation du manioc par la Thaïlande"
   ]
  },
  {
   "cell_type": "code",
   "execution_count": 4350,
   "metadata": {},
   "outputs": [
    {
     "name": "stdout",
     "output_type": "stream",
     "text": [
      "La thailande produit 30228 milliers de tonnes de manioc\n",
      "La thailande exporte 25214 milliers de tonnes de manioc\n",
      "La thailande exporte 83% de son manioc\n",
      "La thailande possède 6.2 millions de personnes en état de sous-nutrition\n"
     ]
    }
   ],
   "source": [
    "dispo_thai = dispo[dispo['Zone']=='Thaïlande']\n",
    "dispo_thai = dispo_thai[dispo_thai['Produit']=='Manioc']\n",
    "export = dispo_thai['Exportations - Quantité'].sum()\n",
    "prod = dispo_thai['Production'].sum()\n",
    "prop = (export/prod) * 100\n",
    "under_nut_thai = lack[lack['Zone']=='Thaïlande']\n",
    "under_nut_thai = under_nut_thai[under_nut_thai['Année']=='2016-2018']\n",
    "print(f\"La thailande produit {prod.astype(int)} milliers de tonnes de manioc\")\n",
    "print(f\"La thailande exporte {export.astype(int)} milliers de tonnes de manioc\")\n",
    "print(f\"La thailande exporte {prop.round(decimals=0).astype(int)}% de son manioc\")\n",
    "print(f\"La thailande possède {under_nut_thai['Valeur'].sum()} millions de personnes en état de sous-nutrition\")\n",
    "\n",
    "# exportation de plus de la moitie de produciton de manioc en thailande, avec un nombre de personnes en sous nutrition supérieur a 6 millions"
   ]
  },
  {
   "cell_type": "markdown",
   "metadata": {},
   "source": [
    "# 4. annalyse approfondie"
   ]
  },
  {
   "cell_type": "markdown",
   "metadata": {},
   "source": [
    "## 4.1 pays dont la proportion de personnes sous-alimentées est la plus elevée en 2017"
   ]
  },
  {
   "cell_type": "code",
   "execution_count": 4351,
   "metadata": {},
   "outputs": [
    {
     "data": {
      "text/html": [
       "<div>\n",
       "<style scoped>\n",
       "    .dataframe tbody tr th:only-of-type {\n",
       "        vertical-align: middle;\n",
       "    }\n",
       "\n",
       "    .dataframe tbody tr th {\n",
       "        vertical-align: top;\n",
       "    }\n",
       "\n",
       "    .dataframe thead th {\n",
       "        text-align: right;\n",
       "    }\n",
       "</style>\n",
       "<table border=\"1\" class=\"dataframe\">\n",
       "  <thead>\n",
       "    <tr style=\"text-align: right;\">\n",
       "      <th></th>\n",
       "      <th>Zone</th>\n",
       "      <th>Année_x</th>\n",
       "      <th>personnes sous alimentées</th>\n",
       "      <th>Année_y</th>\n",
       "      <th>population</th>\n",
       "      <th>prop</th>\n",
       "    </tr>\n",
       "  </thead>\n",
       "  <tbody>\n",
       "    <tr>\n",
       "      <th>78</th>\n",
       "      <td>Haïti</td>\n",
       "      <td>2016-2018</td>\n",
       "      <td>5.3</td>\n",
       "      <td>2017</td>\n",
       "      <td>10.982366</td>\n",
       "      <td>48.259182</td>\n",
       "    </tr>\n",
       "    <tr>\n",
       "      <th>157</th>\n",
       "      <td>République populaire démocratique de Corée</td>\n",
       "      <td>2016-2018</td>\n",
       "      <td>12.0</td>\n",
       "      <td>2017</td>\n",
       "      <td>25.429825</td>\n",
       "      <td>47.188685</td>\n",
       "    </tr>\n",
       "    <tr>\n",
       "      <th>200</th>\n",
       "      <td>Yémen</td>\n",
       "      <td>2016-2018</td>\n",
       "      <td>13.0</td>\n",
       "      <td>2017</td>\n",
       "      <td>27.834819</td>\n",
       "      <td>46.704094</td>\n",
       "    </tr>\n",
       "    <tr>\n",
       "      <th>151</th>\n",
       "      <td>République centrafricaine</td>\n",
       "      <td>2016-2018</td>\n",
       "      <td>2.1</td>\n",
       "      <td>2017</td>\n",
       "      <td>4.596023</td>\n",
       "      <td>45.691677</td>\n",
       "    </tr>\n",
       "    <tr>\n",
       "      <th>108</th>\n",
       "      <td>Madagascar</td>\n",
       "      <td>2016-2018</td>\n",
       "      <td>10.5</td>\n",
       "      <td>2017</td>\n",
       "      <td>25.570512</td>\n",
       "      <td>41.062924</td>\n",
       "    </tr>\n",
       "    <tr>\n",
       "      <th>103</th>\n",
       "      <td>Libéria</td>\n",
       "      <td>2016-2018</td>\n",
       "      <td>1.8</td>\n",
       "      <td>2017</td>\n",
       "      <td>4.702226</td>\n",
       "      <td>38.279742</td>\n",
       "    </tr>\n",
       "    <tr>\n",
       "      <th>100</th>\n",
       "      <td>Lesotho</td>\n",
       "      <td>2016-2018</td>\n",
       "      <td>0.8</td>\n",
       "      <td>2017</td>\n",
       "      <td>2.091534</td>\n",
       "      <td>38.249438</td>\n",
       "    </tr>\n",
       "    <tr>\n",
       "      <th>183</th>\n",
       "      <td>Tchad</td>\n",
       "      <td>2016-2018</td>\n",
       "      <td>5.7</td>\n",
       "      <td>2017</td>\n",
       "      <td>15.016753</td>\n",
       "      <td>37.957606</td>\n",
       "    </tr>\n",
       "    <tr>\n",
       "      <th>154</th>\n",
       "      <td>République démocratique du Congo</td>\n",
       "      <td>2016-2018</td>\n",
       "      <td>29.6</td>\n",
       "      <td>2017</td>\n",
       "      <td>81.398764</td>\n",
       "      <td>36.364189</td>\n",
       "    </tr>\n",
       "    <tr>\n",
       "      <th>161</th>\n",
       "      <td>Rwanda</td>\n",
       "      <td>2016-2018</td>\n",
       "      <td>4.2</td>\n",
       "      <td>2017</td>\n",
       "      <td>11.980961</td>\n",
       "      <td>35.055619</td>\n",
       "    </tr>\n",
       "  </tbody>\n",
       "</table>\n",
       "</div>"
      ],
      "text/plain": [
       "                                           Zone    Année_x  \\\n",
       "78                                        Haïti  2016-2018   \n",
       "157  République populaire démocratique de Corée  2016-2018   \n",
       "200                                       Yémen  2016-2018   \n",
       "151                   République centrafricaine  2016-2018   \n",
       "108                                  Madagascar  2016-2018   \n",
       "103                                     Libéria  2016-2018   \n",
       "100                                     Lesotho  2016-2018   \n",
       "183                                       Tchad  2016-2018   \n",
       "154            République démocratique du Congo  2016-2018   \n",
       "161                                      Rwanda  2016-2018   \n",
       "\n",
       "     personnes sous alimentées  Année_y  population       prop  \n",
       "78                         5.3     2017   10.982366  48.259182  \n",
       "157                       12.0     2017   25.429825  47.188685  \n",
       "200                       13.0     2017   27.834819  46.704094  \n",
       "151                        2.1     2017    4.596023  45.691677  \n",
       "108                       10.5     2017   25.570512  41.062924  \n",
       "103                        1.8     2017    4.702226  38.279742  \n",
       "100                        0.8     2017    2.091534  38.249438  \n",
       "183                        5.7     2017   15.016753  37.957606  \n",
       "154                       29.6     2017   81.398764  36.364189  \n",
       "161                        4.2     2017   11.980961  35.055619  "
      ]
     },
     "metadata": {},
     "output_type": "display_data"
    }
   ],
   "source": [
    "# Division des données de population par 1000 pour avoir la meme unité que les personnes sous alimentées (exprimées en millions)\n",
    "# Calcul du pourcentage, puis affichage par ordre decroissant de proportion\n",
    "sortd = Lack_filled\n",
    "sortd.rename(columns={'Valeur_x':'personnes sous alimentées', 'Valeur_y':'population'}, inplace=True)\n",
    "#sortd.rename(columns={'Valeur_x':'personnes sous alimentées', 'Valeur_y':'population'}, inplace=True)\n",
    "sortd['population'] = sortd['population'] / 1000\n",
    "sortd['prop'] = (sortd['personnes sous alimentées'] / sortd['population']) * 100\n",
    "sortd = sortd.sort_values(by = 'prop', ascending = False)\n",
    "display(sortd[:10])\n",
    "# à noter que les pays avec un nombre faible d'habitants n'apparaissent pas dans ce classement"
   ]
  },
  {
   "cell_type": "markdown",
   "metadata": {},
   "source": [
    "## 4.2 pays ayant le plus bénéficié d’aide depuis 2013"
   ]
  },
  {
   "cell_type": "code",
   "execution_count": 4352,
   "metadata": {},
   "outputs": [
    {
     "data": {
      "text/html": [
       "<div>\n",
       "<style scoped>\n",
       "    .dataframe tbody tr th:only-of-type {\n",
       "        vertical-align: middle;\n",
       "    }\n",
       "\n",
       "    .dataframe tbody tr th {\n",
       "        vertical-align: top;\n",
       "    }\n",
       "\n",
       "    .dataframe thead th {\n",
       "        text-align: right;\n",
       "    }\n",
       "</style>\n",
       "<table border=\"1\" class=\"dataframe\">\n",
       "  <thead>\n",
       "    <tr style=\"text-align: right;\">\n",
       "      <th></th>\n",
       "      <th>Valeur</th>\n",
       "    </tr>\n",
       "    <tr>\n",
       "      <th>Pays bénéficiaire</th>\n",
       "      <th></th>\n",
       "    </tr>\n",
       "  </thead>\n",
       "  <tbody>\n",
       "    <tr>\n",
       "      <th>République arabe syrienne</th>\n",
       "      <td>1858943</td>\n",
       "    </tr>\n",
       "    <tr>\n",
       "      <th>Éthiopie</th>\n",
       "      <td>1381294</td>\n",
       "    </tr>\n",
       "    <tr>\n",
       "      <th>Yémen</th>\n",
       "      <td>1206484</td>\n",
       "    </tr>\n",
       "    <tr>\n",
       "      <th>Soudan du Sud</th>\n",
       "      <td>695248</td>\n",
       "    </tr>\n",
       "    <tr>\n",
       "      <th>Soudan</th>\n",
       "      <td>669784</td>\n",
       "    </tr>\n",
       "    <tr>\n",
       "      <th>Kenya</th>\n",
       "      <td>552836</td>\n",
       "    </tr>\n",
       "    <tr>\n",
       "      <th>Bangladesh</th>\n",
       "      <td>348188</td>\n",
       "    </tr>\n",
       "    <tr>\n",
       "      <th>Somalie</th>\n",
       "      <td>292678</td>\n",
       "    </tr>\n",
       "    <tr>\n",
       "      <th>République démocratique du Congo</th>\n",
       "      <td>288502</td>\n",
       "    </tr>\n",
       "    <tr>\n",
       "      <th>Niger</th>\n",
       "      <td>276344</td>\n",
       "    </tr>\n",
       "  </tbody>\n",
       "</table>\n",
       "</div>"
      ],
      "text/plain": [
       "                                   Valeur\n",
       "Pays bénéficiaire                        \n",
       "République arabe syrienne         1858943\n",
       "Éthiopie                          1381294\n",
       "Yémen                             1206484\n",
       "Soudan du Sud                      695248\n",
       "Soudan                             669784\n",
       "Kenya                              552836\n",
       "Bangladesh                         348188\n",
       "Somalie                            292678\n",
       "République démocratique du Congo   288502\n",
       "Niger                              276344"
      ]
     },
     "execution_count": 4352,
     "metadata": {},
     "output_type": "execute_result"
    }
   ],
   "source": [
    "# addition de l'aide recue chaque année depuis 2013, par pays, puis affichage par ordre decroissant\n",
    "aid = aid.groupby(\"Pays bénéficiaire\").sum()\n",
    "aid = aid.sort_values(by = 'Valeur', ascending = False)\n",
    "aid = aid.drop(['Année'], axis=1)\n",
    "aid.head(10)"
   ]
  },
  {
   "cell_type": "markdown",
   "metadata": {},
   "source": [
    "## 4.3 pays ayant le plus de disponibilité/habitant"
   ]
  },
  {
   "cell_type": "code",
   "execution_count": 4353,
   "metadata": {},
   "outputs": [
    {
     "data": {
      "text/plain": [
       "Zone\n",
       "Autriche                 3770.0\n",
       "Belgique                 3737.0\n",
       "Turquie                  3708.0\n",
       "États-Unis d'Amérique    3682.0\n",
       "Israël                   3610.0\n",
       "Irlande                  3602.0\n",
       "Italie                   3578.0\n",
       "Luxembourg               3540.0\n",
       "Égypte                   3518.0\n",
       "Allemagne                3503.0\n",
       "Name: Disponibilité alimentaire (Kcal/personne/jour), dtype: float64"
      ]
     },
     "metadata": {},
     "output_type": "display_data"
    }
   ],
   "source": [
    "dispo = dispo.groupby(\"Zone\").sum(['Disponibilité alimentaire (Kcal/personne/jour)'])\n",
    "dispo = dispo.sort_values(by = 'Disponibilité alimentaire (Kcal/personne/jour)', ascending = False)\n",
    "display(dispo['Disponibilité alimentaire (Kcal/personne/jour)'][:10])"
   ]
  },
  {
   "cell_type": "markdown",
   "metadata": {},
   "source": [
    "## 4.3 pays ayant le moins de disponibilité/habitant"
   ]
  },
  {
   "cell_type": "code",
   "execution_count": 4354,
   "metadata": {},
   "outputs": [
    {
     "data": {
      "text/plain": [
       "Zone\n",
       "République centrafricaine                     1879.0\n",
       "Zambie                                        1924.0\n",
       "Madagascar                                    2056.0\n",
       "Afghanistan                                   2087.0\n",
       "Haïti                                         2089.0\n",
       "République populaire démocratique de Corée    2093.0\n",
       "Tchad                                         2109.0\n",
       "Zimbabwe                                      2113.0\n",
       "Ouganda                                       2126.0\n",
       "Éthiopie                                      2129.0\n",
       "Name: Disponibilité alimentaire (Kcal/personne/jour), dtype: float64"
      ]
     },
     "metadata": {},
     "output_type": "display_data"
    }
   ],
   "source": [
    "dispo = dispo.sort_values(by = 'Disponibilité alimentaire (Kcal/personne/jour)', ascending = True)\n",
    "display(dispo['Disponibilité alimentaire (Kcal/personne/jour)'][:10])"
   ]
  },
  {
   "cell_type": "markdown",
   "metadata": {},
   "source": [
    "# 5. conclusion"
   ]
  },
  {
   "cell_type": "markdown",
   "metadata": {},
   "source": [
    "Il existe suffisament de nourriture pour nourrir l'intégralité de la population mondiale - 115%\n",
    "En utilisant uniquement les produits végétaux, ce n'est plus le cas - 95%\n",
    "\n",
    "Les céréales sont utilisées presque autant pour les animaux que pour les humains.\n",
    "\n",
    "La thailande exporte l'essentiel de sa production de manioc.\n",
    "\n",
    "Les pays ayant reçu le plus d'aide alimentaire ne sont pas ceux qui possedent la disponibilité alimentaire la plus faible,\n",
    "exception faite de l'ethiopie."
   ]
  }
 ],
 "metadata": {
  "kernelspec": {
   "display_name": "Python 3.9.5",
   "language": "python",
   "name": "python3"
  },
  "language_info": {
   "codemirror_mode": {
    "name": "ipython",
    "version": 3
   },
   "file_extension": ".py",
   "mimetype": "text/x-python",
   "name": "python",
   "nbconvert_exporter": "python",
   "pygments_lexer": "ipython3",
   "version": "3.9.5"
  },
  "orig_nbformat": 4,
  "vscode": {
   "interpreter": {
    "hash": "bbd57b3249f2d36361df4c807cc468fff1bb108ef2da4c044b972c0084749081"
   }
  }
 },
 "nbformat": 4,
 "nbformat_minor": 2
}
